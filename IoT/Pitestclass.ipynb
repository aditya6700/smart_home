{
 "metadata": {
  "language_info": {
   "codemirror_mode": {
    "name": "ipython",
    "version": 3
   },
   "file_extension": ".py",
   "mimetype": "text/x-python",
   "name": "python",
   "nbconvert_exporter": "python",
   "pygments_lexer": "ipython3",
   "version": 3
  },
  "orig_nbformat": 2
 },
 "nbformat": 4,
 "nbformat_minor": 2,
 "cells": [
  {
   "cell_type": "code",
   "execution_count": null,
   "metadata": {},
   "outputs": [],
   "source": [
    "class Room:\n",
    "    def __init__(self, subArr, finalArr):\n",
    "        self.subArr = subArr\n",
    "        self.finalArr = finalArr\n",
    "\n",
    "    def on_message(self, client, userdata, msg):\n",
    "        incData = yaml.safe_load(self.msg.payload)\n",
    "        for i in incData:\n",
    "            self.subArr.append(i)\n",
    "            leng = len(self.subArr)\n",
    "        if(leng == 8):\n",
    "            print(\"received from \"+msg.topic)\n",
    "            self.finalArr = self.subArr[:]\n",
    "            del self.subArr[:]\n",
    "            return self.finalArr"
   ]
  },
  {
   "cell_type": "code",
   "execution_count": null,
   "metadata": {},
   "outputs": [],
   "source": [
    "livingroom = Room([],[])\n",
    "client.message_callback_add('/pi/livingroom', livingroom.on_message_livingroom)"
   ]
  }
 ]
}